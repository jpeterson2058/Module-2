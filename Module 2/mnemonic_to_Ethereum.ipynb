{
 "cells": [
  {
   "cell_type": "markdown",
   "metadata": {},
   "source": [
    "Step 1\n",
    "\n",
    "Import the following dependencies\n",
    "\n",
    "import os\n",
    "\n",
    "from dotenv import load_dotenv and call load_dotenv\n",
    "\n",
    "from bip44 import Wallet\n",
    "\n",
    "from mnemonic import Mnemonic\n",
    "\n",
    "from web3 import Account"
   ]
  },
  {
   "cell_type": "code",
   "execution_count": 2,
   "metadata": {},
   "outputs": [],
   "source": [
    "### Imports\n",
    "\n",
    "import os\n",
    "from dotenv import load_dotenv\n",
    "load_dotenv()\n",
    "from mnemonic import Mnemonic\n",
    "from bip44 import Wallet\n",
    "from web3 import Account"
   ]
  },
  {
   "cell_type": "code",
   "execution_count": 3,
   "metadata": {},
   "outputs": [
    {
     "data": {
      "text/plain": [
       "<bip44.wallet.Wallet at 0x7fa6d2eb1a30>"
      ]
     },
     "execution_count": 3,
     "metadata": {},
     "output_type": "execute_result"
    }
   ],
   "source": [
    "### Since I've already created a mnemonic seed in the previous excercise ('elbow scale copper retreat surface jungle ocean bright square trap wage punch'), I will use this to generate a wallet.Image\n",
    "\n",
    "### The .env file has been created and the phrase is now equal to MNEOMONIC.\n",
    "\n",
    "\n",
    "### Generate a wallet and pass to the mnemonic variable\n",
    "\n",
    "mnemonic = 'elbow scale copper retreat surface jungle ocean bright square trap wage punch'\n",
    "\n",
    "\n",
    "wallet = Wallet(mnemonic)\n",
    "wallet  "
   ]
  },
  {
   "cell_type": "markdown",
   "metadata": {},
   "source": [
    "Next we will create two variables public and private and set the status to derive_account method in the wallet instance.  We must associate the account with Ethereum, pass the string 'eth' to the derive_account method.\n",
    "\n",
    "Now I will create a new variable named account and construct the Ethereum account by call Account.privateKeytoAccount and passing it the private key variable.\n",
    "\n",
    "Last I will call account.address to access the address associated with my Ethereum account.  This address will allow other participants to send me ether on the Ethereum blockchain."
   ]
  },
  {
   "cell_type": "code",
   "execution_count": 4,
   "metadata": {},
   "outputs": [
    {
     "data": {
      "text/plain": [
       "b'\\xb0\\xe8\\x90v\\x91\\xcc\\xbb\\xbd\\xb4\\xd9%wH\\x8a\\xeb\\xb6\\x99\\xfb\\xa2\\x1a\\xbbv\\x80Cs\\xb2)\\xe5\\xd8\\xd9\\xb3\\xe7'"
      ]
     },
     "execution_count": 4,
     "metadata": {},
     "output_type": "execute_result"
    }
   ],
   "source": [
    "# Calling the derive_account method on the wallet instance\n",
    "private, public = wallet.derive_account('eth')\n",
    "\n",
    "# Reviwing the byte string of my private key\n",
    "private"
   ]
  },
  {
   "cell_type": "code",
   "execution_count": 5,
   "metadata": {},
   "outputs": [],
   "source": [
    "# Constructing the Ethereum account by calling Account.privateKeyToAccount and pass to the private key variable\n",
    "account = Account.privateKeyToAccount(private)\n"
   ]
  },
  {
   "cell_type": "code",
   "execution_count": 6,
   "metadata": {},
   "outputs": [
    {
     "name": "stdout",
     "output_type": "stream",
     "text": [
      "0x9C6a38d5ab0b6BE3018187d659DdC04798147E42\n"
     ]
    }
   ],
   "source": [
    "# Calling the account.address to access the address associated with my Ethereum account\n",
    "print(account.address)"
   ]
  },
  {
   "cell_type": "code",
   "execution_count": 7,
   "metadata": {},
   "outputs": [
    {
     "name": "stdout",
     "output_type": "stream",
     "text": [
      "b'\\xb0\\xe8\\x90v\\x91\\xcc\\xbb\\xbd\\xb4\\xd9%wH\\x8a\\xeb\\xb6\\x99\\xfb\\xa2\\x1a\\xbbv\\x80Cs\\xb2)\\xe5\\xd8\\xd9\\xb3\\xe7'\n"
     ]
    }
   ],
   "source": [
    "# Calling the account.privateKey to access the private key associated with my Ethereum account.address\n",
    "print(account.privateKey)"
   ]
  }
 ],
 "metadata": {
  "kernelspec": {
   "display_name": "Python 3.9.12 ('base')",
   "language": "python",
   "name": "python3"
  },
  "language_info": {
   "codemirror_mode": {
    "name": "ipython",
    "version": 3
   },
   "file_extension": ".py",
   "mimetype": "text/x-python",
   "name": "python",
   "nbconvert_exporter": "python",
   "pygments_lexer": "ipython3",
   "version": "3.9.12"
  },
  "orig_nbformat": 4,
  "vscode": {
   "interpreter": {
    "hash": "dbeb4a8b119b0ccae63feff03614ed6cc56c8cbbd8cc92a89574d5c21faf766f"
   }
  }
 },
 "nbformat": 4,
 "nbformat_minor": 2
}
