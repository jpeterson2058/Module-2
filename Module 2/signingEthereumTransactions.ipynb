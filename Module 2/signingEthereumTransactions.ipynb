{
 "cells": [
  {
   "cell_type": "code",
   "execution_count": 1,
   "metadata": {},
   "outputs": [],
   "source": [
    "# Imports\n",
    "\n",
    "import os\n",
    "from dotenv import load_dotenv\n",
    "load_dotenv()\n",
    "from mnemonic import Mnemonic\n",
    "from bip44 import Wallet\n",
    "from web3 import Account\n",
    "from web3.auto import w3\n",
    "from eth_account.messages import encode_defunct"
   ]
  },
  {
   "cell_type": "markdown",
   "metadata": {},
   "source": [
    "Call os.getenv(\"MNEMONIC\") and save value as a variable named mnemonic.  "
   ]
  },
  {
   "cell_type": "code",
   "execution_count": 2,
   "metadata": {},
   "outputs": [
    {
     "data": {
      "text/plain": [
       "str"
      ]
     },
     "execution_count": 2,
     "metadata": {},
     "output_type": "execute_result"
    }
   ],
   "source": [
    "# Use previously established mnemonic\n",
    "mnemonic = 'elbow scale copper retreat surface jungle ocean bright square trap wage punch'\n",
    "\n",
    "# Now we will confirm the mnemonic's availability\n",
    "type(mnemonic)"
   ]
  },
  {
   "cell_type": "markdown",
   "metadata": {},
   "source": [
    "From the bip44 package, I will generate a Wallet instance and pass the mnemonic variable as a parameter"
   ]
  },
  {
   "cell_type": "code",
   "execution_count": 3,
   "metadata": {},
   "outputs": [
    {
     "data": {
      "text/plain": [
       "<bip44.wallet.Wallet at 0x7f7ec16a8d60>"
      ]
     },
     "execution_count": 3,
     "metadata": {},
     "output_type": "execute_result"
    }
   ],
   "source": [
    "# Instantiate an new instance of wallet and pass to my mnemonic variable\n",
    "wallet = Wallet(mnemonic)\n",
    "\n",
    "\n",
    "# Review of the wallet instance\n",
    "wallet"
   ]
  },
  {
   "cell_type": "markdown",
   "metadata": {},
   "source": [
    "Derive public and private keys from the wallet instance and save the values as two variables named public and private"
   ]
  },
  {
   "cell_type": "code",
   "execution_count": 4,
   "metadata": {},
   "outputs": [
    {
     "data": {
      "text/plain": [
       "b'\\xb0\\xe8\\x90v\\x91\\xcc\\xbb\\xbd\\xb4\\xd9%wH\\x8a\\xeb\\xb6\\x99\\xfb\\xa2\\x1a\\xbbv\\x80Cs\\xb2)\\xe5\\xd8\\xd9\\xb3\\xe7'"
      ]
     },
     "execution_count": 4,
     "metadata": {},
     "output_type": "execute_result"
    }
   ],
   "source": [
    "# Calling the derive_account method on the wallet instance\n",
    "private, public = wallet.derive_account('eth')\n",
    "\n",
    "# Review the byte string of the private key\n",
    "private"
   ]
  },
  {
   "cell_type": "markdown",
   "metadata": {},
   "source": [
    "Using the Account object and privatyeKeyToAccount function, I will use my private key to generate an Ethereum account.  We will print the address to confirm"
   ]
  },
  {
   "cell_type": "code",
   "execution_count": 5,
   "metadata": {},
   "outputs": [
    {
     "data": {
      "text/plain": [
       "<eth_account.signers.local.LocalAccount at 0x7f7ec0493bb0>"
      ]
     },
     "execution_count": 5,
     "metadata": {},
     "output_type": "execute_result"
    }
   ],
   "source": [
    "# Build the Ethereum account by calling the Account.privateKeyToAccount and passing to private key variable\n",
    "account = Account.privateKeyToAccount(private)\n",
    "\n",
    "# Printing the account's address\n",
    "account"
   ]
  },
  {
   "cell_type": "markdown",
   "metadata": {},
   "source": [
    "Create a new string variable named msg and set its value equal to the message I woul like to sign"
   ]
  },
  {
   "cell_type": "code",
   "execution_count": 6,
   "metadata": {},
   "outputs": [],
   "source": [
    "# Create a string message\n",
    "msg = \"Rollo owes William $100\""
   ]
  },
  {
   "cell_type": "markdown",
   "metadata": {},
   "source": [
    "Encoding the message using the encode_defunct(text=msg) from Web3.py to encode my message and save the output as a variable named encoded_msg."
   ]
  },
  {
   "cell_type": "code",
   "execution_count": 7,
   "metadata": {},
   "outputs": [],
   "source": [
    "# Next we will encode our message from text format into a byte format.\n",
    "\n",
    "message = encode_defunct(text=msg)"
   ]
  },
  {
   "cell_type": "markdown",
   "metadata": {},
   "source": [
    "Call the w3.eth.account.sign_message method to pass my encoded message variable and private key.  The private key will \"sign\" my new message.  Save the returned signed message as a variable named signed_message"
   ]
  },
  {
   "cell_type": "code",
   "execution_count": 8,
   "metadata": {},
   "outputs": [
    {
     "data": {
      "text/plain": [
       "SignedMessage(messageHash=HexBytes('0x99da6da72447cf6e4e2d8ddfbd1a82457b584a9a507fbae974224e8ea85c4104'), r=46179275551383848529172213639480647748845273192290953692694751245883116945279, s=44943390202801640355685456852612466241580251862361697753709219274890365328817, v=28, signature=HexBytes('0x66188b31184646ce9eadd27a9973f622e8385d793ccefdf70f4ba8d13cc0ff7f635d0eb1bad1f863cb10927591b6128306d809c75b1941f982f1a51c49f75db11c'))"
      ]
     },
     "execution_count": 8,
     "metadata": {},
     "output_type": "execute_result"
    }
   ],
   "source": [
    "# Next we will use the w3.eth.account.sign_message to sign the message to make it legit\n",
    "signed_message = w3.eth.account.sign_message(message, private_key=private)\n",
    "signed_message"
   ]
  },
  {
   "cell_type": "markdown",
   "metadata": {},
   "source": [
    "Call the w3.eth.account.recover_messaged method.  I will pass my encoded message variabel and the message's signature from the signed_message.signature.  I will then confirm that the returned value matches the account address that was printed in step 5."
   ]
  },
  {
   "cell_type": "code",
   "execution_count": 9,
   "metadata": {},
   "outputs": [
    {
     "data": {
      "text/plain": [
       "'0x9C6a38d5ab0b6BE3018187d659DdC04798147E42'"
      ]
     },
     "execution_count": 9,
     "metadata": {},
     "output_type": "execute_result"
    }
   ],
   "source": [
    "# Finally, we will validate the transaction's signature against my public key\n",
    "w3.eth.account.recover_message(message, signature=signed_message.signature)"
   ]
  }
 ],
 "metadata": {
  "kernelspec": {
   "display_name": "Python 3.9.12 ('base')",
   "language": "python",
   "name": "python3"
  },
  "language_info": {
   "codemirror_mode": {
    "name": "ipython",
    "version": 3
   },
   "file_extension": ".py",
   "mimetype": "text/x-python",
   "name": "python",
   "nbconvert_exporter": "python",
   "pygments_lexer": "ipython3",
   "version": "3.9.12"
  },
  "orig_nbformat": 4,
  "vscode": {
   "interpreter": {
    "hash": "dbeb4a8b119b0ccae63feff03614ed6cc56c8cbbd8cc92a89574d5c21faf766f"
   }
  }
 },
 "nbformat": 4,
 "nbformat_minor": 2
}
